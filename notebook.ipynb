{
 "cells": [
  {
   "cell_type": "markdown",
   "metadata": {},
   "source": [
    "# Importing dependencies"
   ]
  },
  {
   "cell_type": "markdown",
   "metadata": {},
   "source": [
    "The only dependecy we need is the awesome `python-chess` module. Besides that we import types from the `typing` module to help specify types of inputs and outputs to our functions"
   ]
  },
  {
   "cell_type": "code",
   "execution_count": 1,
   "metadata": {},
   "outputs": [],
   "source": [
    "from typing import Tuple, List, Dict, Optional\n",
    "\n",
    "import chess\n",
    "import chess.pgn"
   ]
  },
  {
   "cell_type": "markdown",
   "metadata": {},
   "source": [
    "# Computing the fraction of moves that were captures"
   ]
  },
  {
   "cell_type": "markdown",
   "metadata": {},
   "source": [
    "Given a game, we want to compute the fraction of moves that were captures, and do that for each of the players."
   ]
  },
  {
   "cell_type": "code",
   "execution_count": 2,
   "metadata": {},
   "outputs": [],
   "source": [
    "def get_captures_fractions(game: chess.pgn.Game) -> Tuple[float, float]:\n",
    "    board = game.board()\n",
    "    if board.fen() != chess.STARTING_FEN:\n",
    "        raise ValueError(\"Game must start from the initial position\")\n",
    "\n",
    "    num_moves = [0, 0]\n",
    "    num_captures = [0, 0]\n",
    "    for i, move in enumerate(game.mainline_moves()):\n",
    "        player_idx = 1 if board.turn else 0\n",
    "        num_moves[player_idx] += 1\n",
    "        if board.is_capture(move):\n",
    "            num_captures[player_idx] += 1\n",
    "        board.push(move)\n",
    "    return num_captures[0] / num_moves[0], num_captures[1] / num_moves[1]\n"
   ]
  },
  {
   "cell_type": "markdown",
   "metadata": {},
   "source": [
    "# Computing fractions for all the games"
   ]
  },
  {
   "cell_type": "markdown",
   "metadata": {},
   "source": [
    "We calculate the captures fractions from each game that has Elo headers, and for each game we emit two tuples:\n",
    "(white, white elo, black fraction of captures)\n",
    "(black, black elo, black fraction of captures)"
   ]
  },
  {
   "cell_type": "code",
   "execution_count": 3,
   "metadata": {},
   "outputs": [
    {
     "name": "stdout",
     "output_type": "stream",
     "text": [
      "CPU times: user 23 µs, sys: 0 ns, total: 23 µs\n",
      "Wall time: 27.9 µs\n"
     ]
    }
   ],
   "source": [
    "%%time \n",
    "\n",
    "import pickle\n",
    "\n",
    "data = []\n",
    "\n",
    "# pgn_filepath = \"/Volumes/t7/lichess_elite_2020-10.pgn\"  \n",
    "pgn_filepath = \"/Volumes/t7/lichess_db_standard_rated_2020-10.pgn\"\n",
    "# pgn_filepath = \"example2.pgn\"\n",
    "\n",
    "\n",
    "def time_control_str(base_minutes, increment):\n",
    "    return \"{}+{}\".format(60*base_minutes, increment)\n",
    "    \n",
    "time_controls = [\n",
    "    # blitz\n",
    "    time_control_str(3, 0),\n",
    "    time_control_str(3, 2),\n",
    "    time_control_str(5, 0),\n",
    "    time_control_str(5, 3),\n",
    "    # rapid\n",
    "    time_control_str(10, 0),\n",
    "    time_control_str(10, 5),\n",
    "    time_control_str(15, 10),\n",
    "    # classical\n",
    "    time_control_str(30, 0),\n",
    "    time_control_str(30, 20),\n",
    "]\n",
    "\n",
    "limit = 2*10**6\n",
    "num_games = 0\n",
    "batch = 10**4\n",
    "\n",
    "# run this to dump the data to the disk first\n",
    "if False:\n",
    "    with open(pgn_filepath) as pgn_file:\n",
    "        while True:\n",
    "            if num_games >= limit:\n",
    "                break\n",
    "            game = chess.pgn.read_game(pgn_file)\n",
    "            if game is None:\n",
    "                break\n",
    "            time_control = game.headers.get('TimeControl')\n",
    "            if time_control not in time_controls:\n",
    "                continue\n",
    "            elos = [game.headers.get('WhiteElo'), game.headers.get('BlackElo')]\n",
    "            if any(elo is None or elo == '' for elo in elos):\n",
    "                continue\n",
    "\n",
    "            try:\n",
    "                fractions = get_captures_fractions(game)\n",
    "            except ZeroDivisionError:\n",
    "                continue\n",
    "            else:\n",
    "                if num_games > 0 and (num_games % batch) == 0:\n",
    "                    print(num_games // batch)\n",
    "                    # dump to disk\n",
    "                    outpath = \"data/%d.p\" % num_games\n",
    "                    with open(outpath, \"wb\") as fp:\n",
    "                        pickle.dump(data, fp)\n",
    "                    data = []\n",
    "                white_row = (\"white\", int(elos[0]), fractions[0])\n",
    "                black_row = (\"black\", int(elos[1]), fractions[1])\n",
    "                data.append(white_row)\n",
    "                data.append(black_row)\n",
    "                num_games += 1\n",
    "\n",
    "        if data:\n",
    "            # dump final chunk to disk\n",
    "            outpath = \"data/%d.p\" % num_games\n",
    "            with open(outpath, \"wb\") as fp:\n",
    "                pickle.dump(data, fp)"
   ]
  },
  {
   "cell_type": "markdown",
   "metadata": {},
   "source": [
    "# Reading data from disk"
   ]
  },
  {
   "cell_type": "code",
   "execution_count": 4,
   "metadata": {},
   "outputs": [
    {
     "name": "stdout",
     "output_type": "stream",
     "text": [
      "4000000\n"
     ]
    }
   ],
   "source": [
    "import os\n",
    "import pickle\n",
    "\n",
    "games_data_dir = \"games_data\"\n",
    "\n",
    "data = []\n",
    "for filename in os.listdir(games_data_dir):\n",
    "    if filename.endswith(\".p\"):\n",
    "        filepath = os.path.join(games_data_dir, filename)\n",
    "        with open(filepath, \"rb\") as fp:\n",
    "            data.extend(pickle.load(fp))\n",
    "\n",
    "print(len(data))"
   ]
  },
  {
   "cell_type": "markdown",
   "metadata": {},
   "source": [
    "# Grouping the results by Elo"
   ]
  },
  {
   "cell_type": "code",
   "execution_count": 5,
   "metadata": {},
   "outputs": [],
   "source": [
    "import pandas as pd\n",
    "import numpy as np\n",
    "from scipy import stats"
   ]
  },
  {
   "cell_type": "markdown",
   "metadata": {},
   "source": [
    "### Construct DataFrame"
   ]
  },
  {
   "cell_type": "code",
   "execution_count": 6,
   "metadata": {},
   "outputs": [
    {
     "data": {
      "text/html": [
       "<div>\n",
       "<style scoped>\n",
       "    .dataframe tbody tr th:only-of-type {\n",
       "        vertical-align: middle;\n",
       "    }\n",
       "\n",
       "    .dataframe tbody tr th {\n",
       "        vertical-align: top;\n",
       "    }\n",
       "\n",
       "    .dataframe thead th {\n",
       "        text-align: right;\n",
       "    }\n",
       "</style>\n",
       "<table border=\"1\" class=\"dataframe\">\n",
       "  <thead>\n",
       "    <tr style=\"text-align: right;\">\n",
       "      <th></th>\n",
       "      <th>elo</th>\n",
       "      <th>captures</th>\n",
       "    </tr>\n",
       "  </thead>\n",
       "  <tbody>\n",
       "    <tr>\n",
       "      <th>count</th>\n",
       "      <td>4.000000e+06</td>\n",
       "      <td>4.000000e+06</td>\n",
       "    </tr>\n",
       "    <tr>\n",
       "      <th>mean</th>\n",
       "      <td>1.654515e+03</td>\n",
       "      <td>2.388933e-01</td>\n",
       "    </tr>\n",
       "    <tr>\n",
       "      <th>std</th>\n",
       "      <td>3.318969e+02</td>\n",
       "      <td>7.318482e-02</td>\n",
       "    </tr>\n",
       "    <tr>\n",
       "      <th>min</th>\n",
       "      <td>6.000000e+02</td>\n",
       "      <td>0.000000e+00</td>\n",
       "    </tr>\n",
       "    <tr>\n",
       "      <th>25%</th>\n",
       "      <td>1.419000e+03</td>\n",
       "      <td>1.964286e-01</td>\n",
       "    </tr>\n",
       "    <tr>\n",
       "      <th>50%</th>\n",
       "      <td>1.666000e+03</td>\n",
       "      <td>2.352941e-01</td>\n",
       "    </tr>\n",
       "    <tr>\n",
       "      <th>75%</th>\n",
       "      <td>1.895000e+03</td>\n",
       "      <td>2.800000e-01</td>\n",
       "    </tr>\n",
       "    <tr>\n",
       "      <th>max</th>\n",
       "      <td>3.126000e+03</td>\n",
       "      <td>9.166667e-01</td>\n",
       "    </tr>\n",
       "  </tbody>\n",
       "</table>\n",
       "</div>"
      ],
      "text/plain": [
       "                elo      captures\n",
       "count  4.000000e+06  4.000000e+06\n",
       "mean   1.654515e+03  2.388933e-01\n",
       "std    3.318969e+02  7.318482e-02\n",
       "min    6.000000e+02  0.000000e+00\n",
       "25%    1.419000e+03  1.964286e-01\n",
       "50%    1.666000e+03  2.352941e-01\n",
       "75%    1.895000e+03  2.800000e-01\n",
       "max    3.126000e+03  9.166667e-01"
      ]
     },
     "execution_count": 6,
     "metadata": {},
     "output_type": "execute_result"
    }
   ],
   "source": [
    "df = pd.DataFrame([(e[1], e[2]) for e in data], columns=['elo', 'captures'])\n",
    "df.describe()"
   ]
  },
  {
   "cell_type": "markdown",
   "metadata": {},
   "source": [
    "### Drop rows with absolute value of Standard Score at least 3"
   ]
  },
  {
   "cell_type": "code",
   "execution_count": 7,
   "metadata": {},
   "outputs": [
    {
     "data": {
      "text/html": [
       "<div>\n",
       "<style scoped>\n",
       "    .dataframe tbody tr th:only-of-type {\n",
       "        vertical-align: middle;\n",
       "    }\n",
       "\n",
       "    .dataframe tbody tr th {\n",
       "        vertical-align: top;\n",
       "    }\n",
       "\n",
       "    .dataframe thead th {\n",
       "        text-align: right;\n",
       "    }\n",
       "</style>\n",
       "<table border=\"1\" class=\"dataframe\">\n",
       "  <thead>\n",
       "    <tr style=\"text-align: right;\">\n",
       "      <th></th>\n",
       "      <th>elo</th>\n",
       "      <th>captures</th>\n",
       "    </tr>\n",
       "  </thead>\n",
       "  <tbody>\n",
       "    <tr>\n",
       "      <th>count</th>\n",
       "      <td>3.918471e+06</td>\n",
       "      <td>3.918471e+06</td>\n",
       "    </tr>\n",
       "    <tr>\n",
       "      <th>mean</th>\n",
       "      <td>1.658475e+03</td>\n",
       "      <td>2.409878e-01</td>\n",
       "    </tr>\n",
       "    <tr>\n",
       "      <th>std</th>\n",
       "      <td>3.297103e+02</td>\n",
       "      <td>6.490911e-02</td>\n",
       "    </tr>\n",
       "    <tr>\n",
       "      <th>min</th>\n",
       "      <td>6.590000e+02</td>\n",
       "      <td>1.960784e-02</td>\n",
       "    </tr>\n",
       "    <tr>\n",
       "      <th>25%</th>\n",
       "      <td>1.424000e+03</td>\n",
       "      <td>2.000000e-01</td>\n",
       "    </tr>\n",
       "    <tr>\n",
       "      <th>50%</th>\n",
       "      <td>1.670000e+03</td>\n",
       "      <td>2.368421e-01</td>\n",
       "    </tr>\n",
       "    <tr>\n",
       "      <th>75%</th>\n",
       "      <td>1.897000e+03</td>\n",
       "      <td>2.800000e-01</td>\n",
       "    </tr>\n",
       "    <tr>\n",
       "      <th>max</th>\n",
       "      <td>2.650000e+03</td>\n",
       "      <td>4.583333e-01</td>\n",
       "    </tr>\n",
       "  </tbody>\n",
       "</table>\n",
       "</div>"
      ],
      "text/plain": [
       "                elo      captures\n",
       "count  3.918471e+06  3.918471e+06\n",
       "mean   1.658475e+03  2.409878e-01\n",
       "std    3.297103e+02  6.490911e-02\n",
       "min    6.590000e+02  1.960784e-02\n",
       "25%    1.424000e+03  2.000000e-01\n",
       "50%    1.670000e+03  2.368421e-01\n",
       "75%    1.897000e+03  2.800000e-01\n",
       "max    2.650000e+03  4.583333e-01"
      ]
     },
     "execution_count": 7,
     "metadata": {},
     "output_type": "execute_result"
    }
   ],
   "source": [
    "df = df[(np.abs(stats.zscore(df)) < 3).all(axis=1)]\n",
    "df.describe()"
   ]
  },
  {
   "cell_type": "markdown",
   "metadata": {},
   "source": [
    "### Drop rows with Elo less than 100"
   ]
  },
  {
   "cell_type": "code",
   "execution_count": 8,
   "metadata": {},
   "outputs": [
    {
     "data": {
      "text/html": [
       "<div>\n",
       "<style scoped>\n",
       "    .dataframe tbody tr th:only-of-type {\n",
       "        vertical-align: middle;\n",
       "    }\n",
       "\n",
       "    .dataframe tbody tr th {\n",
       "        vertical-align: top;\n",
       "    }\n",
       "\n",
       "    .dataframe thead th {\n",
       "        text-align: right;\n",
       "    }\n",
       "</style>\n",
       "<table border=\"1\" class=\"dataframe\">\n",
       "  <thead>\n",
       "    <tr style=\"text-align: right;\">\n",
       "      <th></th>\n",
       "      <th>elo</th>\n",
       "      <th>captures</th>\n",
       "    </tr>\n",
       "  </thead>\n",
       "  <tbody>\n",
       "    <tr>\n",
       "      <th>count</th>\n",
       "      <td>3.832296e+06</td>\n",
       "      <td>3.832296e+06</td>\n",
       "    </tr>\n",
       "    <tr>\n",
       "      <th>mean</th>\n",
       "      <td>1.675209e+03</td>\n",
       "      <td>2.405112e-01</td>\n",
       "    </tr>\n",
       "    <tr>\n",
       "      <th>std</th>\n",
       "      <td>3.135405e+02</td>\n",
       "      <td>6.446880e-02</td>\n",
       "    </tr>\n",
       "    <tr>\n",
       "      <th>min</th>\n",
       "      <td>1.000000e+03</td>\n",
       "      <td>1.960784e-02</td>\n",
       "    </tr>\n",
       "    <tr>\n",
       "      <th>25%</th>\n",
       "      <td>1.443000e+03</td>\n",
       "      <td>2.000000e-01</td>\n",
       "    </tr>\n",
       "    <tr>\n",
       "      <th>50%</th>\n",
       "      <td>1.680000e+03</td>\n",
       "      <td>2.363636e-01</td>\n",
       "    </tr>\n",
       "    <tr>\n",
       "      <th>75%</th>\n",
       "      <td>1.903000e+03</td>\n",
       "      <td>2.800000e-01</td>\n",
       "    </tr>\n",
       "    <tr>\n",
       "      <th>max</th>\n",
       "      <td>2.650000e+03</td>\n",
       "      <td>4.583333e-01</td>\n",
       "    </tr>\n",
       "  </tbody>\n",
       "</table>\n",
       "</div>"
      ],
      "text/plain": [
       "                elo      captures\n",
       "count  3.832296e+06  3.832296e+06\n",
       "mean   1.675209e+03  2.405112e-01\n",
       "std    3.135405e+02  6.446880e-02\n",
       "min    1.000000e+03  1.960784e-02\n",
       "25%    1.443000e+03  2.000000e-01\n",
       "50%    1.680000e+03  2.363636e-01\n",
       "75%    1.903000e+03  2.800000e-01\n",
       "max    2.650000e+03  4.583333e-01"
      ]
     },
     "execution_count": 8,
     "metadata": {},
     "output_type": "execute_result"
    }
   ],
   "source": [
    "df = df[df.elo >= 1000]\n",
    "df.describe()"
   ]
  },
  {
   "cell_type": "markdown",
   "metadata": {},
   "source": [
    "# Plotting"
   ]
  },
  {
   "cell_type": "markdown",
   "metadata": {},
   "source": [
    "For plotting we use `matplotlib` so you should have it installed if you want to get a nice plot along the numerical data."
   ]
  },
  {
   "cell_type": "code",
   "execution_count": 10,
   "metadata": {},
   "outputs": [
    {
     "data": {
      "image/png": "[encoded data removed]",
      "text/plain": [
       "<Figure size 1440x720 with 1 Axes>"
      ]
     },
     "metadata": {
      "needs_background": "light"
     },
     "output_type": "display_data"
    }
   ],
   "source": [
    "import matplotlib\n",
    "import matplotlib.pyplot as plt\n",
    "import numpy as np\n",
    "\n",
    "plt.rcParams['font.family'] = ['DejaVu Sans']\n",
    "plt.rcParams['grid.alpha'] = 0.5\n",
    "plt.rcParams['grid.color'] = '#ccc'\n",
    "plt.rcParams['axes.facecolor'] = 'white'\n",
    "plt.rcParams['savefig.facecolor'] = 'white'\n",
    "\n",
    "fig, ax = plt.subplots(figsize=(20, 10))   \n",
    "ax.set_frame_on(False) \n",
    "    \n",
    "# using https://stackoverflow.com/questions/47158443/pandas-plot-mean-values-within-bins-formatting-help-needed\n",
    "\n",
    "min_elo = df.elo.min()\n",
    "max_elo = df.elo.max()\n",
    "\n",
    "bins = np.linspace(min_elo, max_elo, 20)\n",
    "group = df.groupby(pd.cut(df.elo, bins))\n",
    "\n",
    "plot_centers = (bins[:-1] + bins[1:]) / 2\n",
    "plot_values = group.captures.mean()\n",
    "\n",
    "plt.plot(plot_centers, plot_values, linestyle='--', marker='o', color='b')\n",
    "    \n",
    "ax.text(1, .9, \"source & code:\", \n",
    "        va='top', ha='right', color='b', fontsize=14, fontweight='normal', transform=ax.transAxes)\n",
    "ax.text(1, .85, \"blog.chessvision.ai\", \n",
    "        va='top', ha='right', color='b', fontsize=18, fontweight='bold', transform=ax.transAxes)\n",
    "\n",
    "# ax.set_ylabel('Captures\\nper\\nmove', fontsize=16, color='b', rotation=0, ha='left', labelpad=100)\n",
    "ax.set_xlabel('Elo on lichess.org', fontsize=16, color='b', labelpad=20)\n",
    "\n",
    "plt.title(\"Average number of captures per move by Elo rating from %dM chess games\" % (len(data) // 2 // 10**6),\n",
    "         fontdict={\"fontsize\": 24, \"fontweight\": \"bold\", \"color\": \"b\"})\n",
    "\n",
    "plt.yticks(fontsize=16, color='black', fontweight='normal')\n",
    "plt.xticks(fontsize=16, color='black', fontweight='normal')\n",
    "plt.grid()\n",
    "plt.show()\n",
    "fig.savefig('plot.png', dpi=fig.dpi, edgecolor='none', bbox_inches='tight', pad_inches=0.5)"
   ]
  }
 ],
 "metadata": {
  "hide_input": false,
  "kernelspec": {
   "display_name": "chess-average-number-of-trades",
   "language": "python",
   "name": "chess-average-number-of-trades"
  },
  "language_info": {
   "codemirror_mode": {
    "name": "ipython",
    "version": 3
   },
   "file_extension": ".py",
   "mimetype": "text/x-python",
   "name": "python",
   "nbconvert_exporter": "python",
   "pygments_lexer": "ipython3",
   "version": "3.7.7"
  }
 },
 "nbformat": 4,
 "nbformat_minor": 2
}
